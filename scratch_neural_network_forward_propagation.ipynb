{
 "cells": [
  {
   "cell_type": "code",
   "execution_count": 1,
   "id": "582dd17c",
   "metadata": {},
   "outputs": [],
   "source": [
    "import numpy as np"
   ]
  },
  {
   "cell_type": "code",
   "execution_count": 2,
   "id": "1f601c82",
   "metadata": {},
   "outputs": [
    {
     "data": {
      "text/plain": [
       "array([[1. ],\n",
       "       [5.6]])"
      ]
     },
     "execution_count": 2,
     "metadata": {},
     "output_type": "execute_result"
    }
   ],
   "source": [
    "X = np.array([1,5.6]).reshape(2,1)\n",
    "X"
   ]
  },
  {
   "cell_type": "code",
   "execution_count": 3,
   "id": "46f5d399",
   "metadata": {},
   "outputs": [
    {
     "data": {
      "text/plain": [
       "(1, 1)"
      ]
     },
     "execution_count": 3,
     "metadata": {},
     "output_type": "execute_result"
    }
   ],
   "source": [
    "Y = np.array([60]).reshape(1,1)\n",
    "Y.shape"
   ]
  },
  {
   "cell_type": "markdown",
   "id": "6c09ba64",
   "metadata": {},
   "source": [
    "# Manual work "
   ]
  },
  {
   "cell_type": "code",
   "execution_count": 4,
   "id": "13ac7cbb",
   "metadata": {
    "scrolled": false
   },
   "outputs": [],
   "source": [
    "#initializing weights\n",
    "\n",
    "def weight_initializer(shape0,shape1):\n",
    "    return np.random.randn(shape1,shape0)*0.1"
   ]
  },
  {
   "cell_type": "code",
   "execution_count": 5,
   "id": "891c4655",
   "metadata": {},
   "outputs": [],
   "source": [
    "#bias initialize\n",
    "def bias_initializer(shape0,shape1):\n",
    "    return np.zeros((shape0,shape1))"
   ]
  },
  {
   "cell_type": "code",
   "execution_count": 6,
   "id": "e90e988f",
   "metadata": {},
   "outputs": [],
   "source": [
    "#linear step\n",
    "def linear_(W,X,b):\n",
    "    return np.dot(W,X) + b"
   ]
  },
  {
   "cell_type": "code",
   "execution_count": 7,
   "id": "8a4da934",
   "metadata": {},
   "outputs": [],
   "source": [
    "#sigmoid activation function\n",
    "def activation(z):\n",
    "    return 1/(1+np.exp(-z))"
   ]
  },
  {
   "cell_type": "code",
   "execution_count": 8,
   "id": "8c049693",
   "metadata": {},
   "outputs": [],
   "source": [
    "#binary crossentropy\n",
    "def loss(Y,yhat):\n",
    "    return -1* (np.dot(Y,np.log(yhat)) + np.dot((1-Y),np.log(1-yhat)))"
   ]
  },
  {
   "cell_type": "code",
   "execution_count": 9,
   "id": "4c40ec0b",
   "metadata": {
    "scrolled": true
   },
   "outputs": [
    {
     "name": "stdout",
     "output_type": "stream",
     "text": [
      "[[ 0.17640523  0.04001572]\n",
      " [ 0.0978738   0.22408932]\n",
      " [ 0.1867558  -0.09772779]\n",
      " [ 0.09500884 -0.01513572]]\n",
      "(4, 2)\n"
     ]
    }
   ],
   "source": [
    "#L1 (Input layer to 1st hidden layer) hidden layer with 4 neurons\n",
    "np.random.seed(0)\n",
    "W1 = weight_initializer(2,4)\n",
    "b1 = bias_initializer(4,1)\n",
    "z1 = linear_(W1,X,b1)\n",
    "a1 = activation(z1)\n",
    "print(W1)\n",
    "print(W1.shape)"
   ]
  },
  {
   "cell_type": "code",
   "execution_count": 10,
   "id": "c80db806",
   "metadata": {},
   "outputs": [
    {
     "name": "stdout",
     "output_type": "stream",
     "text": [
      "[[-0.01032189  0.04105985  0.01440436  0.14542735]\n",
      " [ 0.07610377  0.0121675   0.04438632  0.03336743]\n",
      " [ 0.14940791 -0.02051583  0.03130677 -0.08540957]]\n",
      "(3, 4)\n"
     ]
    }
   ],
   "source": [
    "#L2 (1st hidden layer to 2nd hidden layer)\n",
    "W2 = weight_initializer(4,3)\n",
    "b2 = bias_initializer(3,1)\n",
    "z2 = linear_(W2,a1,b2)\n",
    "a2 = activation(z2)\n",
    "print(W2)\n",
    "print(W2.shape)"
   ]
  },
  {
   "cell_type": "code",
   "execution_count": 11,
   "id": "a1e713c8",
   "metadata": {},
   "outputs": [
    {
     "name": "stdout",
     "output_type": "stream",
     "text": [
      "[[-0.25529898  0.06536186  0.08644362]]\n"
     ]
    }
   ],
   "source": [
    "#L3 (2nd hidden layer to output layer)\n",
    "W3 = weight_initializer(3,1)\n",
    "b3 = bias_initializer(1,1)\n",
    "z3 = linear_(W3,a2,b3)\n",
    "a3 = activation(z3)\n",
    "print(W3) #predicted value\n"
   ]
  },
  {
   "cell_type": "code",
   "execution_count": 12,
   "id": "ef702978",
   "metadata": {
    "scrolled": true
   },
   "outputs": [
    {
     "data": {
      "text/plain": [
       "array([[4.02945371]])"
      ]
     },
     "execution_count": 12,
     "metadata": {},
     "output_type": "execute_result"
    }
   ],
   "source": [
    "loss(Y,a3)"
   ]
  },
  {
   "cell_type": "markdown",
   "id": "33462892",
   "metadata": {},
   "source": [
    "# Dynamic work"
   ]
  },
  {
   "cell_type": "code",
   "execution_count": 13,
   "id": "e80953b2",
   "metadata": {},
   "outputs": [],
   "source": [
    "def initialize_parameter(s0,L):\n",
    "    np.random.seed(0)\n",
    "    L.insert(0,s0)\n",
    "    parameters = {}\n",
    "    for i in range(1,len(L)):\n",
    "        parameters['W'+str(i)] = np.random.randn(L[i],L[i-1])*0.1\n",
    "        parameters['b'+str(i)] = np.zeros((L[i],1))   \n",
    "    return parameters"
   ]
  },
  {
   "cell_type": "code",
   "execution_count": 14,
   "id": "bdd04997",
   "metadata": {
    "scrolled": false
   },
   "outputs": [
    {
     "data": {
      "text/plain": [
       "{'W1': array([[ 0.17640523,  0.04001572],\n",
       "        [ 0.0978738 ,  0.22408932],\n",
       "        [ 0.1867558 , -0.09772779],\n",
       "        [ 0.09500884, -0.01513572]]),\n",
       " 'b1': array([[0.],\n",
       "        [0.],\n",
       "        [0.],\n",
       "        [0.]]),\n",
       " 'W2': array([[-0.01032189,  0.04105985,  0.01440436,  0.14542735],\n",
       "        [ 0.07610377,  0.0121675 ,  0.04438632,  0.03336743],\n",
       "        [ 0.14940791, -0.02051583,  0.03130677, -0.08540957]]),\n",
       " 'b2': array([[0.],\n",
       "        [0.],\n",
       "        [0.]]),\n",
       " 'W3': array([[-0.25529898,  0.06536186,  0.08644362]]),\n",
       " 'b3': array([[0.]])}"
      ]
     },
     "execution_count": 14,
     "metadata": {},
     "output_type": "execute_result"
    }
   ],
   "source": [
    "L = [4,3,1]\n",
    "parameters = initialize_parameter(X.shape[0],L)\n",
    "parameters"
   ]
  },
  {
   "cell_type": "code",
   "execution_count": 15,
   "id": "7721fedf",
   "metadata": {},
   "outputs": [],
   "source": [
    "def forward_pass(X,Y,parameters):\n",
    "    linear_pass_output = {}\n",
    "    X = X\n",
    "    a = len(parameters)//2\n",
    "    for i in range(1,a+1):\n",
    "        W = parameters[\"W\" + str(i)]\n",
    "        b = parameters[\"b\" + str(i)] \n",
    "        z = np.dot(W,X) + b\n",
    "        a = 1/(1+np.exp(-z))\n",
    "        X = a\n",
    "        linear_pass_output['z' + str(i)] = z\n",
    "        linear_pass_output['a' + str(i)] = a\n",
    "    l_f = loss(Y,X)\n",
    "    return l_f,linear_pass_output"
   ]
  },
  {
   "cell_type": "code",
   "execution_count": 16,
   "id": "7bc84e31",
   "metadata": {},
   "outputs": [],
   "source": [
    "loss_val,_ = forward_pass(X,Y,parameters)"
   ]
  },
  {
   "cell_type": "code",
   "execution_count": 17,
   "id": "9d01aeed",
   "metadata": {},
   "outputs": [
    {
     "data": {
      "text/plain": [
       "array([[4.02945371]])"
      ]
     },
     "execution_count": 17,
     "metadata": {},
     "output_type": "execute_result"
    }
   ],
   "source": [
    "loss_val"
   ]
  },
  {
   "cell_type": "code",
   "execution_count": null,
   "id": "2f555664",
   "metadata": {},
   "outputs": [],
   "source": []
  },
  {
   "cell_type": "code",
   "execution_count": null,
   "id": "46228b02",
   "metadata": {},
   "outputs": [],
   "source": []
  }
 ],
 "metadata": {
  "kernelspec": {
   "display_name": "Python 3 (ipykernel)",
   "language": "python",
   "name": "python3"
  },
  "language_info": {
   "codemirror_mode": {
    "name": "ipython",
    "version": 3
   },
   "file_extension": ".py",
   "mimetype": "text/x-python",
   "name": "python",
   "nbconvert_exporter": "python",
   "pygments_lexer": "ipython3",
   "version": "3.9.7"
  }
 },
 "nbformat": 4,
 "nbformat_minor": 5
}
