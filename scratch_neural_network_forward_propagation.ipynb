{
 "cells": [
  {
   "cell_type": "code",
   "execution_count": 1,
   "id": "73c0a753",
   "metadata": {},
   "outputs": [],
   "source": [
    "import numpy as np"
   ]
  },
  {
   "cell_type": "code",
   "execution_count": 99,
   "id": "7ab281ac",
   "metadata": {},
   "outputs": [
    {
     "data": {
      "text/plain": [
       "array([[1. ],\n",
       "       [5.6]])"
      ]
     },
     "execution_count": 99,
     "metadata": {},
     "output_type": "execute_result"
    }
   ],
   "source": [
    "X = np.array([1,5.6]).reshape(2,1)\n",
    "X"
   ]
  },
  {
   "cell_type": "code",
   "execution_count": 100,
   "id": "bfa55294",
   "metadata": {},
   "outputs": [
    {
     "data": {
      "text/plain": [
       "(1, 1)"
      ]
     },
     "execution_count": 100,
     "metadata": {},
     "output_type": "execute_result"
    }
   ],
   "source": [
    "Y = np.array([60]).reshape(1,1)\n",
    "Y.shape"
   ]
  },
  {
   "cell_type": "code",
   "execution_count": 85,
   "id": "109d3b5d",
   "metadata": {
    "scrolled": false
   },
   "outputs": [],
   "source": [
    "#initializing weights\n",
    "np.random.seed(0)\n",
    "def weight_initializer(shape0,shape1):\n",
    "    return np.random.randn(shape0,shape1)*0.1"
   ]
  },
  {
   "cell_type": "code",
   "execution_count": 86,
   "id": "8920b261",
   "metadata": {},
   "outputs": [],
   "source": [
    "#bias initialize\n",
    "def bias_initializer(shape0,shape1):\n",
    "    return np.zeros((shape0,shape1))"
   ]
  },
  {
   "cell_type": "code",
   "execution_count": 87,
   "id": "31741293",
   "metadata": {},
   "outputs": [],
   "source": [
    "#linear step\n",
    "def linear_(W,X,b):\n",
    "    return np.dot(W.T,X) + b"
   ]
  },
  {
   "cell_type": "code",
   "execution_count": 88,
   "id": "5a76d52a",
   "metadata": {},
   "outputs": [],
   "source": [
    "#sigmoid activation function\n",
    "def activation(z):\n",
    "    return 1/(1+np.exp(-z))"
   ]
  },
  {
   "cell_type": "code",
   "execution_count": 89,
   "id": "fc3cc744",
   "metadata": {},
   "outputs": [],
   "source": [
    "#binary crossentropy\n",
    "def loss(Y,yhat):\n",
    "    return -1* (np.dot(Y,np.log(yhat)) + np.dot((1-Y),np.log(1-yhat)))"
   ]
  },
  {
   "cell_type": "code",
   "execution_count": 90,
   "id": "c8b4a7a8",
   "metadata": {
    "scrolled": true
   },
   "outputs": [
    {
     "name": "stdout",
     "output_type": "stream",
     "text": [
      "[[ 0.17640523  0.04001572  0.0978738   0.22408932]\n",
      " [ 0.1867558  -0.09772779  0.09500884 -0.01513572]]\n"
     ]
    }
   ],
   "source": [
    "#L1 (Input layer to 1st hidden layer) hidden layer with 4 neurons\n",
    "W1 = weight_initializer(2,4)\n",
    "b1 = bias_initializer(4,1)\n",
    "z1 = linear_(W1,X,b1)\n",
    "a1 = activation(z1)\n",
    "print(W1)"
   ]
  },
  {
   "cell_type": "code",
   "execution_count": 91,
   "id": "624b6b6f",
   "metadata": {},
   "outputs": [
    {
     "name": "stdout",
     "output_type": "stream",
     "text": [
      "[[-0.01032189]\n",
      " [ 0.04105985]\n",
      " [ 0.01440436]\n",
      " [ 0.14542735]]\n"
     ]
    }
   ],
   "source": [
    "#L2 (1st hidden layer to output layer)\n",
    "W2 = weight_initializer(4,1)\n",
    "b2 = bias_initializer(1,1)\n",
    "z2 = linear_(W2,a1,b2)\n",
    "a2 = activation(z2)\n",
    "print(W2) #predicted value"
   ]
  },
  {
   "cell_type": "code",
   "execution_count": 71,
   "id": "8e86f622",
   "metadata": {},
   "outputs": [
    {
     "data": {
      "text/plain": [
       "array([[-19.18887337]])"
      ]
     },
     "execution_count": 71,
     "metadata": {},
     "output_type": "execute_result"
    }
   ],
   "source": [
    "loss(Y,a2)"
   ]
  },
  {
   "cell_type": "code",
   "execution_count": 96,
   "id": "1b1fb89e",
   "metadata": {},
   "outputs": [],
   "source": [
    "def initialize_parameter(X,L):\n",
    "    np.random.seed(0)\n",
    "    L.insert(0,X.shape[0])\n",
    "    parameters = {}\n",
    "    for i in range(1,len(L)-1):\n",
    "        parameters['W'+str(i)] = np.random.randn(L[i],L[i-1])*0.1\n",
    "        parameters['b'+str(i)] = np.zeros((L[i],1))   \n",
    "        \n",
    "    return parameters"
   ]
  },
  {
   "cell_type": "code",
   "execution_count": 97,
   "id": "ff304627",
   "metadata": {},
   "outputs": [],
   "source": [
    "L = [4,3,1]"
   ]
  },
  {
   "cell_type": "code",
   "execution_count": 98,
   "id": "f29df936",
   "metadata": {},
   "outputs": [
    {
     "data": {
      "text/plain": [
       "{'W1': array([[ 0.17640523,  0.04001572],\n",
       "        [ 0.0978738 ,  0.22408932],\n",
       "        [ 0.1867558 , -0.09772779],\n",
       "        [ 0.09500884, -0.01513572]]),\n",
       " 'b1': array([[0.],\n",
       "        [0.],\n",
       "        [0.],\n",
       "        [0.]]),\n",
       " 'W2': array([[-0.01032189,  0.04105985,  0.01440436,  0.14542735],\n",
       "        [ 0.07610377,  0.0121675 ,  0.04438632,  0.03336743],\n",
       "        [ 0.14940791, -0.02051583,  0.03130677, -0.08540957]]),\n",
       " 'b2': array([[0.],\n",
       "        [0.],\n",
       "        [0.]])}"
      ]
     },
     "execution_count": 98,
     "metadata": {},
     "output_type": "execute_result"
    }
   ],
   "source": [
    "initialize_parameter(X,L)"
   ]
  }
 ],
 "metadata": {
  "kernelspec": {
   "display_name": "Python 3 (ipykernel)",
   "language": "python",
   "name": "python3"
  },
  "language_info": {
   "codemirror_mode": {
    "name": "ipython",
    "version": 3
   },
   "file_extension": ".py",
   "mimetype": "text/x-python",
   "name": "python",
   "nbconvert_exporter": "python",
   "pygments_lexer": "ipython3",
   "version": "3.9.7"
  }
 },
 "nbformat": 4,
 "nbformat_minor": 5
}
