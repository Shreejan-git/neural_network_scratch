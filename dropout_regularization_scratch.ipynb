{
 "cells": [
  {
   "cell_type": "code",
   "execution_count": 1,
   "id": "7a2a28eb",
   "metadata": {},
   "outputs": [],
   "source": [
    "import numpy as np"
   ]
  },
  {
   "cell_type": "markdown",
   "id": "854e7566",
   "metadata": {},
   "source": [
    "There are various types of dropout. Below, I have done the scratch implementation the inverted dropout. Inverted dropout has one simple twist in its implmentation that makes it more optimized than original standard dropout which has invented by ### hinton in 2012.\n",
    "\n",
    "In future, I have a plan to implement other types of dropout like pooling-dropout, spatialdropout, etc which are used in CNN and other various types of dropout of RNN. "
   ]
  },
  {
   "cell_type": "code",
   "execution_count": 2,
   "id": "a445492e",
   "metadata": {},
   "outputs": [],
   "source": [
    "X = np.array([[2],[3]])"
   ]
  },
  {
   "cell_type": "code",
   "execution_count": 3,
   "id": "58bfecd6",
   "metadata": {},
   "outputs": [
    {
     "data": {
      "text/plain": [
       "(2, 1)"
      ]
     },
     "execution_count": 3,
     "metadata": {},
     "output_type": "execute_result"
    }
   ],
   "source": [
    "X.shape"
   ]
  },
  {
   "cell_type": "code",
   "execution_count": 4,
   "id": "de9d1531",
   "metadata": {},
   "outputs": [
    {
     "data": {
      "text/plain": [
       "(1, 1)"
      ]
     },
     "execution_count": 4,
     "metadata": {},
     "output_type": "execute_result"
    }
   ],
   "source": [
    "Y = np.array([[1]])\n",
    "Y.shape"
   ]
  },
  {
   "cell_type": "code",
   "execution_count": 5,
   "id": "4c0c8578",
   "metadata": {},
   "outputs": [],
   "source": [
    "def parameters_initializer(l):\n",
    "    '''\n",
    "    initializes the parameters for each layer. \n",
    "    '''\n",
    "    parameters = {}\n",
    "    for i in range(1,len(l)):\n",
    "        parameters[\"W\"+str(i)] = np.random.randn(l[i],l[i-1])\n",
    "        parameters[\"b\"+str(i)] = np.zeros((l[i],1))\n",
    "    return parameters"
   ]
  },
  {
   "cell_type": "code",
   "execution_count": 6,
   "id": "ae8ba94c",
   "metadata": {},
   "outputs": [],
   "source": [
    "def linear_forward(X,W,b):\n",
    "    #W.X + b\n",
    "    z = np.dot(W,X) + b\n",
    "        \n",
    "    return z\n",
    "        "
   ]
  },
  {
   "cell_type": "code",
   "execution_count": 7,
   "id": "5309da7f",
   "metadata": {
    "scrolled": true
   },
   "outputs": [],
   "source": [
    "def activation_pass(Z,activation,keepprob=1):\n",
    "    if activation == 'relu':\n",
    "        return np.where(0,Z<0,Z)\n",
    "    else:\n",
    "        return 1/(1+np.exp(-Z))\n",
    "    "
   ]
  },
  {
   "cell_type": "code",
   "execution_count": 8,
   "id": "dfb2b410",
   "metadata": {},
   "outputs": [],
   "source": [
    "def activation_pass_dropout(Z,activation,keepprob):\n",
    "    #implementation of inverted dropout\n",
    "    if activation == 'relu':\n",
    "        a = np.where(0,Z<0,Z)\n",
    "        mask = np.random.rand(a.shape[0],a.shape[1]) < keepprob\n",
    "        a = np.multiply(a,mask.astype(int))\n",
    "        \n",
    "        return a/keeprob\n",
    "    \n",
    "    else:\n",
    "        a = 1/(1+np.exp(-Z))\n",
    "        mask = np.random.rand(a.shape[0],a.shape[1]) < keepprob\n",
    "        a = np.multiply(a,mask.astype(int))\n",
    "        \n",
    "        return a/keepprob\n",
    "    "
   ]
  },
  {
   "cell_type": "code",
   "execution_count": 9,
   "id": "99a16850",
   "metadata": {},
   "outputs": [],
   "source": [
    "def cost_function(Y,yhat):\n",
    "    '''\n",
    "    binary cross-entropy as a cost function.\n",
    "    '''\n",
    "    m = Y.shape[1]\n",
    "    return np.multiply(-1/m,np.dot(Y,yhat) + np.dot((1-Y),(1-yhat)))"
   ]
  },
  {
   "cell_type": "code",
   "execution_count": 10,
   "id": "45bd7818",
   "metadata": {},
   "outputs": [],
   "source": [
    "def forward_prop(X,L,Y,keepprob=1):\n",
    "    '''\n",
    "    This is not full-fledged forward propagation. For now, all the layers will use sigmoid activation function.\n",
    "    '''\n",
    "    layer = L\n",
    "    parameters = parameters_initializer(L)\n",
    "\n",
    "    X = X\n",
    "    caches = {}\n",
    "    \n",
    "    for i in range(1,len(layer)):\n",
    "        z = linear_forward(X, parameters[\"W\"+str(i)], parameters[\"b\"+str(i)])\n",
    "        \n",
    "        if keepprob != 1: #if statement will run if the keepprob == 1 i.e., dropout is 0\n",
    "            a = activation_pass_dropout(z,'sigmoid',keepprob)\n",
    "            X = a\n",
    "            \n",
    "        else:\n",
    "            a = activation_pass(z,'sigmoid')\n",
    "            X = a\n",
    "\n",
    "        caches['z' + str(i)] = z\n",
    "        caches[\"a\" + str(i)] = a\n",
    "        \n",
    "    cost_val = cost_function(Y,X)\n",
    "    \n",
    "    return caches, cost_val\n",
    "    "
   ]
  },
  {
   "cell_type": "code",
   "execution_count": 11,
   "id": "a5f1c705",
   "metadata": {},
   "outputs": [
    {
     "data": {
      "text/plain": [
       "({'z1': array([[3.76307577],\n",
       "         [0.63885194],\n",
       "         [4.26212776]]),\n",
       "  'a1': array([[0.        ],\n",
       "         [1.30898779],\n",
       "         [1.97220709]]),\n",
       "  'z2': array([[1.57045312]]),\n",
       "  'a2': array([[0.]])},\n",
       " array([[-0.]]))"
      ]
     },
     "execution_count": 11,
     "metadata": {},
     "output_type": "execute_result"
    }
   ],
   "source": [
    "L = [2,3,1]\n",
    "forward_prop(X,L,Y,0.5)"
   ]
  },
  {
   "cell_type": "code",
   "execution_count": null,
   "id": "d623dd91",
   "metadata": {},
   "outputs": [],
   "source": []
  },
  {
   "cell_type": "code",
   "execution_count": null,
   "id": "ee85d838",
   "metadata": {},
   "outputs": [],
   "source": []
  },
  {
   "cell_type": "code",
   "execution_count": null,
   "id": "32120436",
   "metadata": {},
   "outputs": [],
   "source": []
  },
  {
   "cell_type": "code",
   "execution_count": null,
   "id": "c47d950f",
   "metadata": {},
   "outputs": [],
   "source": []
  }
 ],
 "metadata": {
  "kernelspec": {
   "display_name": "Python 3 (ipykernel)",
   "language": "python",
   "name": "python3"
  },
  "language_info": {
   "codemirror_mode": {
    "name": "ipython",
    "version": 3
   },
   "file_extension": ".py",
   "mimetype": "text/x-python",
   "name": "python",
   "nbconvert_exporter": "python",
   "pygments_lexer": "ipython3",
   "version": "3.9.7"
  }
 },
 "nbformat": 4,
 "nbformat_minor": 5
}
